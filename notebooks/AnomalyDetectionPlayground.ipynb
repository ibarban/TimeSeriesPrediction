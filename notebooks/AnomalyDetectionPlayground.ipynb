{
 "cells": [
  {
   "cell_type": "code",
   "execution_count": null,
   "metadata": {},
   "outputs": [],
   "source": [
    "import pandas as pd\n",
    "\n",
    "%run \"AnomalyDetection.ipynb\"\n"
   ]
  },
  {
   "cell_type": "code",
   "execution_count": null,
   "metadata": {},
   "outputs": [],
   "source": [
    "def estimate_and_plot_anomalies(file_path):\n",
    "    df = pd.read_csv(file_path, parse_dates =[\"Timestamp\"], index_col =\"Timestamp\")\n",
    "    df.index.name = 'timestamp'\n",
    "    df = df.rename(columns={'Value': 'value'})\n",
    "\n",
    "    anomalyResult = get_anomaly_summary(df, '2025-02-25 22:55:01', '2025-02-28 22:55:01')\n",
    "\n",
    "    plot_combined_graphs(anomalyResult)"
   ]
  },
  {
   "cell_type": "code",
   "execution_count": null,
   "metadata": {},
   "outputs": [],
   "source": [
    "estimate_and_plot_anomalies(r'path to file')\n"
   ]
  }
 ],
 "metadata": {
  "kernelspec": {
   "display_name": ".venv",
   "language": "python",
   "name": "python3"
  },
  "language_info": {
   "codemirror_mode": {
    "name": "ipython",
    "version": 3
   },
   "file_extension": ".py",
   "mimetype": "text/x-python",
   "name": "python",
   "nbconvert_exporter": "python",
   "pygments_lexer": "ipython3",
   "version": "3.10.11"
  }
 },
 "nbformat": 4,
 "nbformat_minor": 2
}
